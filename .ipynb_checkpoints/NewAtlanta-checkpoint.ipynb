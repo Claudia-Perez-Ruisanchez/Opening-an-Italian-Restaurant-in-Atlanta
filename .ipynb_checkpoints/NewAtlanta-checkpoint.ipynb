{
 "cells": [
  {
   "cell_type": "markdown",
   "metadata": {},
   "source": [
    "## Opening an Italian Restaurant in Atlanta\n",
    "\n",
    "As a high populated city, Atlanta is an excellent place to start a new business, specially a restaurant. As part of this project we are interested in find the best locations in Atlanta to open an Italian restaurant in order to increase the investors profits. We want to focus on areas that are not full of restaurants, but also accesible and with a population who like this kind of places."
   ]
  },
  {
   "cell_type": "code",
   "execution_count": 2,
   "metadata": {},
   "outputs": [],
   "source": [
    "import numpy as np # library to handle data in a vectorized manner\n",
    "\n",
    "import pandas as pd # library for data analsysis\n",
    "pd.set_option('display.max_columns', None)\n",
    "pd.set_option('display.max_rows', None)\n",
    "\n",
    "import json # library to handle JSON files\n",
    "\n",
    "#!conda install -c conda-forge geopy --yes # uncomment this line if you haven't completed the Foursquare API lab\n",
    "from geopy.geocoders import Nominatim # convert an address into latitude and longitude values\n",
    "\n",
    "import requests # library to handle requests\n",
    "from pandas.io.json import json_normalize # tranform JSON file into a pandas dataframe\n",
    "\n",
    "# Matplotlib and associated plotting modules\n",
    "import matplotlib.cm as cm\n",
    "import matplotlib.colors as colors\n",
    "\n",
    "# import k-means from clustering stage\n",
    "from sklearn.cluster import KMeans\n",
    "\n",
    "import folium # map rendering library"
   ]
  },
  {
   "cell_type": "markdown",
   "metadata": {},
   "source": [
    "### Data\n",
    "\n",
    "For our data we are taking into account the following:\n",
    "\n",
    "Distance to the Center of the City.\n",
    "Number of Italian restaurants and Pizza Places.\n",
    "For the data collection we look in a radius of 15 km from the center of Atlanta. We look for the all the Italian places not only the restaurants. We use the word Italian as search query.\n",
    "\n",
    "* We use the Foursquare API to obtain the data related to the Italian places in Atlanta. \n",
    "* We use Nominatim API to obtain the coordinates of the venues."
   ]
  },
  {
   "cell_type": "code",
   "execution_count": 3,
   "metadata": {},
   "outputs": [],
   "source": [
    "CLIENT_ID = 'IVUX2ATVRIVIAT3MYAOI3BNB0N5X2BCPEGK3W0FCX5RNN1HN' # your Foursquare ID\n",
    "CLIENT_SECRET = '1UKWCBE54WZK50IHDYJXAK3GJCXPGQELW5QE30LXCGRA4MG2' # your Foursquare Secret\n",
    "VERSION = '20180604'\n",
    "LIMIT = 100"
   ]
  },
  {
   "cell_type": "code",
   "execution_count": 4,
   "metadata": {},
   "outputs": [],
   "source": [
    "geolocator = Nominatim(user_agent=\"foursquare_agent\") \n",
    "address='Atlanta, Georgia, GA'\n",
    "location = geolocator.geocode(address)\n",
    "latitude = location.latitude\n",
    "longitude = location.longitude"
   ]
  },
  {
   "cell_type": "code",
   "execution_count": 5,
   "metadata": {},
   "outputs": [],
   "source": [
    "search_query = 'Italian'\n",
    "radius = 15000\n",
    "LIMIT = 1000\n",
    "url = 'https://api.foursquare.com/v2/venues/search?client_id={}&client_secret={}&ll={},{}&v={}&query={}&radius={}&limit={}'.format(CLIENT_ID, CLIENT_SECRET, latitude, longitude, VERSION, search_query, radius, LIMIT)\n",
    "results=requests.get(url).json()\n",
    "venues=results['response']['venues']     \n",
    "# transform venues into a dataframe\n",
    "dataframe = json_normalize(venues)    "
   ]
  },
  {
   "cell_type": "code",
   "execution_count": 6,
   "metadata": {},
   "outputs": [
    {
     "data": {
      "text/html": [
       "<div>\n",
       "<style scoped>\n",
       "    .dataframe tbody tr th:only-of-type {\n",
       "        vertical-align: middle;\n",
       "    }\n",
       "\n",
       "    .dataframe tbody tr th {\n",
       "        vertical-align: top;\n",
       "    }\n",
       "\n",
       "    .dataframe thead th {\n",
       "        text-align: right;\n",
       "    }\n",
       "</style>\n",
       "<table border=\"1\" class=\"dataframe\">\n",
       "  <thead>\n",
       "    <tr style=\"text-align: right;\">\n",
       "      <th></th>\n",
       "      <th>categories</th>\n",
       "      <th>delivery.id</th>\n",
       "      <th>delivery.provider.icon.name</th>\n",
       "      <th>delivery.provider.icon.prefix</th>\n",
       "      <th>delivery.provider.icon.sizes</th>\n",
       "      <th>delivery.provider.name</th>\n",
       "      <th>delivery.url</th>\n",
       "      <th>hasPerk</th>\n",
       "      <th>id</th>\n",
       "      <th>location.address</th>\n",
       "      <th>location.cc</th>\n",
       "      <th>location.city</th>\n",
       "      <th>location.country</th>\n",
       "      <th>location.crossStreet</th>\n",
       "      <th>location.distance</th>\n",
       "      <th>location.formattedAddress</th>\n",
       "      <th>location.labeledLatLngs</th>\n",
       "      <th>location.lat</th>\n",
       "      <th>location.lng</th>\n",
       "      <th>location.postalCode</th>\n",
       "      <th>location.state</th>\n",
       "      <th>name</th>\n",
       "      <th>referralId</th>\n",
       "      <th>venuePage.id</th>\n",
       "    </tr>\n",
       "  </thead>\n",
       "  <tbody>\n",
       "    <tr>\n",
       "      <th>0</th>\n",
       "      <td>[{'id': '4bf58dd8d48988d110941735', 'name': 'I...</td>\n",
       "      <td>NaN</td>\n",
       "      <td>NaN</td>\n",
       "      <td>NaN</td>\n",
       "      <td>NaN</td>\n",
       "      <td>NaN</td>\n",
       "      <td>NaN</td>\n",
       "      <td>False</td>\n",
       "      <td>57cdcdac498eb8c81a58b1d4</td>\n",
       "      <td>Concourse C</td>\n",
       "      <td>US</td>\n",
       "      <td>Atlanta</td>\n",
       "      <td>United States</td>\n",
       "      <td>ATL Airport</td>\n",
       "      <td>12685</td>\n",
       "      <td>[Concourse C (ATL Airport), Atlanta, GA 30337,...</td>\n",
       "      <td>[{'label': 'display', 'lat': 33.64081508392147...</td>\n",
       "      <td>33.640815</td>\n",
       "      <td>-84.432870</td>\n",
       "      <td>30337</td>\n",
       "      <td>GA</td>\n",
       "      <td>Carrabba's Italian Grill</td>\n",
       "      <td>v-1581110376</td>\n",
       "      <td>NaN</td>\n",
       "    </tr>\n",
       "    <tr>\n",
       "      <th>1</th>\n",
       "      <td>[{'id': '4bf58dd8d48988d104951735', 'name': 'B...</td>\n",
       "      <td>NaN</td>\n",
       "      <td>NaN</td>\n",
       "      <td>NaN</td>\n",
       "      <td>NaN</td>\n",
       "      <td>NaN</td>\n",
       "      <td>NaN</td>\n",
       "      <td>False</td>\n",
       "      <td>4c07d42f221620a14b65f775</td>\n",
       "      <td>213 Mitchell St SW</td>\n",
       "      <td>US</td>\n",
       "      <td>Atlanta</td>\n",
       "      <td>United States</td>\n",
       "      <td>Forsyth</td>\n",
       "      <td>516</td>\n",
       "      <td>[213 Mitchell St SW (Forsyth), Atlanta, GA 303...</td>\n",
       "      <td>[{'label': 'display', 'lat': 33.75168442726135...</td>\n",
       "      <td>33.751684</td>\n",
       "      <td>-84.394816</td>\n",
       "      <td>30303</td>\n",
       "      <td>GA</td>\n",
       "      <td>Meockie Mens Italian Suits &amp; Accessories</td>\n",
       "      <td>v-1581110376</td>\n",
       "      <td>NaN</td>\n",
       "    </tr>\n",
       "    <tr>\n",
       "      <th>2</th>\n",
       "      <td>[{'id': '4bf58dd8d48988d1c9941735', 'name': 'I...</td>\n",
       "      <td>NaN</td>\n",
       "      <td>NaN</td>\n",
       "      <td>NaN</td>\n",
       "      <td>NaN</td>\n",
       "      <td>NaN</td>\n",
       "      <td>NaN</td>\n",
       "      <td>False</td>\n",
       "      <td>5054dc77e4b0ff6b61ea3d4d</td>\n",
       "      <td>NaN</td>\n",
       "      <td>US</td>\n",
       "      <td>Atlanta</td>\n",
       "      <td>United States</td>\n",
       "      <td>NaN</td>\n",
       "      <td>1184</td>\n",
       "      <td>[Atlanta, GA 30303, United States]</td>\n",
       "      <td>[{'label': 'display', 'lat': 33.759367, 'lng':...</td>\n",
       "      <td>33.759367</td>\n",
       "      <td>-84.393521</td>\n",
       "      <td>30303</td>\n",
       "      <td>GA</td>\n",
       "      <td>Italian Ice</td>\n",
       "      <td>v-1581110376</td>\n",
       "      <td>NaN</td>\n",
       "    </tr>\n",
       "    <tr>\n",
       "      <th>3</th>\n",
       "      <td>[{'id': '4bf58dd8d48988d1cb941735', 'name': 'F...</td>\n",
       "      <td>NaN</td>\n",
       "      <td>NaN</td>\n",
       "      <td>NaN</td>\n",
       "      <td>NaN</td>\n",
       "      <td>NaN</td>\n",
       "      <td>NaN</td>\n",
       "      <td>False</td>\n",
       "      <td>5403c63b498ea3425961c6f7</td>\n",
       "      <td>NaN</td>\n",
       "      <td>US</td>\n",
       "      <td>Atlanta</td>\n",
       "      <td>United States</td>\n",
       "      <td>NaN</td>\n",
       "      <td>760</td>\n",
       "      <td>[Atlanta, GA, United States]</td>\n",
       "      <td>[{'label': 'display', 'lat': 33.74513244628906...</td>\n",
       "      <td>33.745132</td>\n",
       "      <td>-84.383499</td>\n",
       "      <td>NaN</td>\n",
       "      <td>GA</td>\n",
       "      <td>PICCOLO ITALIAN FOOD TRUCK</td>\n",
       "      <td>v-1581110376</td>\n",
       "      <td>NaN</td>\n",
       "    </tr>\n",
       "    <tr>\n",
       "      <th>4</th>\n",
       "      <td>[{'id': '4bf58dd8d48988d110941735', 'name': 'I...</td>\n",
       "      <td>NaN</td>\n",
       "      <td>NaN</td>\n",
       "      <td>NaN</td>\n",
       "      <td>NaN</td>\n",
       "      <td>NaN</td>\n",
       "      <td>NaN</td>\n",
       "      <td>False</td>\n",
       "      <td>4e4dee2fbd4101d0d79e778e</td>\n",
       "      <td>1801 Howell Mill Rd NW</td>\n",
       "      <td>US</td>\n",
       "      <td>Atlanta</td>\n",
       "      <td>United States</td>\n",
       "      <td>NaN</td>\n",
       "      <td>6502</td>\n",
       "      <td>[1801 Howell Mill Rd NW, Atlanta, GA 30318, Un...</td>\n",
       "      <td>[{'label': 'display', 'lat': 33.804112, 'lng':...</td>\n",
       "      <td>33.804112</td>\n",
       "      <td>-84.413797</td>\n",
       "      <td>30318</td>\n",
       "      <td>GA</td>\n",
       "      <td>Artuzzi's Italian Kitchen</td>\n",
       "      <td>v-1581110376</td>\n",
       "      <td>NaN</td>\n",
       "    </tr>\n",
       "  </tbody>\n",
       "</table>\n",
       "</div>"
      ],
      "text/plain": [
       "                                          categories delivery.id  \\\n",
       "0  [{'id': '4bf58dd8d48988d110941735', 'name': 'I...         NaN   \n",
       "1  [{'id': '4bf58dd8d48988d104951735', 'name': 'B...         NaN   \n",
       "2  [{'id': '4bf58dd8d48988d1c9941735', 'name': 'I...         NaN   \n",
       "3  [{'id': '4bf58dd8d48988d1cb941735', 'name': 'F...         NaN   \n",
       "4  [{'id': '4bf58dd8d48988d110941735', 'name': 'I...         NaN   \n",
       "\n",
       "  delivery.provider.icon.name delivery.provider.icon.prefix  \\\n",
       "0                         NaN                           NaN   \n",
       "1                         NaN                           NaN   \n",
       "2                         NaN                           NaN   \n",
       "3                         NaN                           NaN   \n",
       "4                         NaN                           NaN   \n",
       "\n",
       "  delivery.provider.icon.sizes delivery.provider.name delivery.url  hasPerk  \\\n",
       "0                          NaN                    NaN          NaN    False   \n",
       "1                          NaN                    NaN          NaN    False   \n",
       "2                          NaN                    NaN          NaN    False   \n",
       "3                          NaN                    NaN          NaN    False   \n",
       "4                          NaN                    NaN          NaN    False   \n",
       "\n",
       "                         id        location.address location.cc location.city  \\\n",
       "0  57cdcdac498eb8c81a58b1d4             Concourse C          US       Atlanta   \n",
       "1  4c07d42f221620a14b65f775      213 Mitchell St SW          US       Atlanta   \n",
       "2  5054dc77e4b0ff6b61ea3d4d                     NaN          US       Atlanta   \n",
       "3  5403c63b498ea3425961c6f7                     NaN          US       Atlanta   \n",
       "4  4e4dee2fbd4101d0d79e778e  1801 Howell Mill Rd NW          US       Atlanta   \n",
       "\n",
       "  location.country location.crossStreet  location.distance  \\\n",
       "0    United States          ATL Airport              12685   \n",
       "1    United States              Forsyth                516   \n",
       "2    United States                  NaN               1184   \n",
       "3    United States                  NaN                760   \n",
       "4    United States                  NaN               6502   \n",
       "\n",
       "                           location.formattedAddress  \\\n",
       "0  [Concourse C (ATL Airport), Atlanta, GA 30337,...   \n",
       "1  [213 Mitchell St SW (Forsyth), Atlanta, GA 303...   \n",
       "2                 [Atlanta, GA 30303, United States]   \n",
       "3                       [Atlanta, GA, United States]   \n",
       "4  [1801 Howell Mill Rd NW, Atlanta, GA 30318, Un...   \n",
       "\n",
       "                             location.labeledLatLngs  location.lat  \\\n",
       "0  [{'label': 'display', 'lat': 33.64081508392147...     33.640815   \n",
       "1  [{'label': 'display', 'lat': 33.75168442726135...     33.751684   \n",
       "2  [{'label': 'display', 'lat': 33.759367, 'lng':...     33.759367   \n",
       "3  [{'label': 'display', 'lat': 33.74513244628906...     33.745132   \n",
       "4  [{'label': 'display', 'lat': 33.804112, 'lng':...     33.804112   \n",
       "\n",
       "   location.lng location.postalCode location.state  \\\n",
       "0    -84.432870               30337             GA   \n",
       "1    -84.394816               30303             GA   \n",
       "2    -84.393521               30303             GA   \n",
       "3    -84.383499                 NaN             GA   \n",
       "4    -84.413797               30318             GA   \n",
       "\n",
       "                                       name    referralId venuePage.id  \n",
       "0                  Carrabba's Italian Grill  v-1581110376          NaN  \n",
       "1  Meockie Mens Italian Suits & Accessories  v-1581110376          NaN  \n",
       "2                               Italian Ice  v-1581110376          NaN  \n",
       "3                PICCOLO ITALIAN FOOD TRUCK  v-1581110376          NaN  \n",
       "4                 Artuzzi's Italian Kitchen  v-1581110376          NaN  "
      ]
     },
     "execution_count": 6,
     "metadata": {},
     "output_type": "execute_result"
    }
   ],
   "source": [
    "dataframe.head()"
   ]
  },
  {
   "cell_type": "markdown",
   "metadata": {},
   "source": [
    "We collect all the data and saved into a  Dataframe which we have to filter to keep only the features with the relevant information to our study. As we set a radius of 15km, we obtain also some venues out of the limits of Atlanta and we eliminate them."
   ]
  },
  {
   "cell_type": "code",
   "execution_count": 7,
   "metadata": {},
   "outputs": [],
   "source": [
    "filtered_columns=['name','categories']+[col for col in dataframe.columns if col.startswith('location.')]"
   ]
  },
  {
   "cell_type": "code",
   "execution_count": 8,
   "metadata": {},
   "outputs": [
    {
     "name": "stderr",
     "output_type": "stream",
     "text": [
      "/anaconda3/lib/python3.7/site-packages/pandas/core/indexing.py:190: SettingWithCopyWarning: \n",
      "A value is trying to be set on a copy of a slice from a DataFrame\n",
      "\n",
      "See the caveats in the documentation: http://pandas.pydata.org/pandas-docs/stable/indexing.html#indexing-view-versus-copy\n",
      "  self._setitem_with_indexer(indexer, value)\n"
     ]
    }
   ],
   "source": [
    "dataframe_filtered=dataframe.loc[:,filtered_columns]\n",
    "\n",
    "for i in range(dataframe.shape[0]):\n",
    "    categ_list=dataframe_filtered['categories'].iloc[i]\n",
    "    if len(categ_list) ==0:\n",
    "        dataframe_filtered['categories'].iloc[i]= 'no category'\n",
    "    else:\n",
    "        dataframe_filtered['categories'].iloc[i]=categ_list[0]['name'] "
   ]
  },
  {
   "cell_type": "code",
   "execution_count": 9,
   "metadata": {},
   "outputs": [],
   "source": [
    "dataframe_filtered.columns=[col.split('.')[-1] for col in dataframe_filtered.columns]\n",
    "dataframe_filtered.head()\n",
    "dataframe_filtered.drop(['formattedAddress'], axis=1,inplace=True)\n",
    "dataframe_filtered.drop(['labeledLatLngs'], axis=1,inplace=True)\n",
    "dataframe_filtered.drop(['crossStreet'], axis=1,inplace=True)\n",
    "dataframe_filtered.drop(['state'], axis=1,inplace=True)\n",
    "dataframe_filtered.drop(['address'], axis=1,inplace=True)\n",
    "dataframe_filtered.drop(['cc'], axis=1,inplace=True)\n",
    "dataframe_filtered.drop(['country'], axis=1,inplace=True)"
   ]
  },
  {
   "cell_type": "code",
   "execution_count": 10,
   "metadata": {},
   "outputs": [],
   "source": [
    "dataframe_filtered=dataframe_filtered[dataframe_filtered['city']=='Atlanta']  "
   ]
  },
  {
   "cell_type": "code",
   "execution_count": 11,
   "metadata": {},
   "outputs": [],
   "source": [
    "dataframe_filtered.drop(['city'], axis=1,inplace=True)"
   ]
  },
  {
   "cell_type": "code",
   "execution_count": 12,
   "metadata": {},
   "outputs": [
    {
     "data": {
      "text/html": [
       "<div>\n",
       "<style scoped>\n",
       "    .dataframe tbody tr th:only-of-type {\n",
       "        vertical-align: middle;\n",
       "    }\n",
       "\n",
       "    .dataframe tbody tr th {\n",
       "        vertical-align: top;\n",
       "    }\n",
       "\n",
       "    .dataframe thead th {\n",
       "        text-align: right;\n",
       "    }\n",
       "</style>\n",
       "<table border=\"1\" class=\"dataframe\">\n",
       "  <thead>\n",
       "    <tr style=\"text-align: right;\">\n",
       "      <th></th>\n",
       "      <th>name</th>\n",
       "      <th>categories</th>\n",
       "      <th>distance</th>\n",
       "      <th>lat</th>\n",
       "      <th>lng</th>\n",
       "      <th>postalCode</th>\n",
       "    </tr>\n",
       "  </thead>\n",
       "  <tbody>\n",
       "    <tr>\n",
       "      <th>0</th>\n",
       "      <td>Carrabba's Italian Grill</td>\n",
       "      <td>Italian Restaurant</td>\n",
       "      <td>12685</td>\n",
       "      <td>33.640815</td>\n",
       "      <td>-84.432870</td>\n",
       "      <td>30337</td>\n",
       "    </tr>\n",
       "    <tr>\n",
       "      <th>1</th>\n",
       "      <td>Meockie Mens Italian Suits &amp; Accessories</td>\n",
       "      <td>Boutique</td>\n",
       "      <td>516</td>\n",
       "      <td>33.751684</td>\n",
       "      <td>-84.394816</td>\n",
       "      <td>30303</td>\n",
       "    </tr>\n",
       "    <tr>\n",
       "      <th>2</th>\n",
       "      <td>Italian Ice</td>\n",
       "      <td>Ice Cream Shop</td>\n",
       "      <td>1184</td>\n",
       "      <td>33.759367</td>\n",
       "      <td>-84.393521</td>\n",
       "      <td>30303</td>\n",
       "    </tr>\n",
       "    <tr>\n",
       "      <th>3</th>\n",
       "      <td>PICCOLO ITALIAN FOOD TRUCK</td>\n",
       "      <td>Food Truck</td>\n",
       "      <td>760</td>\n",
       "      <td>33.745132</td>\n",
       "      <td>-84.383499</td>\n",
       "      <td>NaN</td>\n",
       "    </tr>\n",
       "    <tr>\n",
       "      <th>4</th>\n",
       "      <td>Artuzzi's Italian Kitchen</td>\n",
       "      <td>Italian Restaurant</td>\n",
       "      <td>6502</td>\n",
       "      <td>33.804112</td>\n",
       "      <td>-84.413797</td>\n",
       "      <td>30318</td>\n",
       "    </tr>\n",
       "  </tbody>\n",
       "</table>\n",
       "</div>"
      ],
      "text/plain": [
       "                                       name          categories  distance  \\\n",
       "0                  Carrabba's Italian Grill  Italian Restaurant     12685   \n",
       "1  Meockie Mens Italian Suits & Accessories            Boutique       516   \n",
       "2                               Italian Ice      Ice Cream Shop      1184   \n",
       "3                PICCOLO ITALIAN FOOD TRUCK          Food Truck       760   \n",
       "4                 Artuzzi's Italian Kitchen  Italian Restaurant      6502   \n",
       "\n",
       "         lat        lng postalCode  \n",
       "0  33.640815 -84.432870      30337  \n",
       "1  33.751684 -84.394816      30303  \n",
       "2  33.759367 -84.393521      30303  \n",
       "3  33.745132 -84.383499        NaN  \n",
       "4  33.804112 -84.413797      30318  "
      ]
     },
     "execution_count": 12,
     "metadata": {},
     "output_type": "execute_result"
    }
   ],
   "source": [
    "dataframe_filtered.head()"
   ]
  },
  {
   "cell_type": "code",
   "execution_count": 13,
   "metadata": {},
   "outputs": [],
   "source": [
    "dataframe_filtered=dataframe_filtered[dataframe_filtered['categories'].str.contains('|'.join(['Italian Restaurant','Pizza Place']))]"
   ]
  },
  {
   "cell_type": "code",
   "execution_count": 14,
   "metadata": {},
   "outputs": [
    {
     "data": {
      "text/plain": [
       "array(['30337', '30318', nan, '30339', '30308', '30309', '30303', '30324',\n",
       "       '30305', '30342', '30320', '30341', '30326'], dtype=object)"
      ]
     },
     "execution_count": 14,
     "metadata": {},
     "output_type": "execute_result"
    }
   ],
   "source": [
    "dataframe_filtered['postalCode'].unique()"
   ]
  },
  {
   "cell_type": "markdown",
   "metadata": {},
   "source": [
    "We have some categories like 'Boutique' that are totally out of the scope of our problem, in fact we are only interest in categories like 'Italian Restaurant' and 'Pizza Place'. Also, we have one NaN value and we are going to include the correct value manually."
   ]
  },
  {
   "cell_type": "code",
   "execution_count": 15,
   "metadata": {},
   "outputs": [],
   "source": [
    "dataframe_filtered['postalCode'].replace(np.nan, 30308, inplace=True)"
   ]
  },
  {
   "cell_type": "markdown",
   "metadata": {},
   "source": [
    "We used python folium library to visualize the location of the places on a map of Atlanta. We used latitude and longitude values to get the visual as below:"
   ]
  },
  {
   "cell_type": "code",
   "execution_count": 16,
   "metadata": {},
   "outputs": [
    {
     "data": {
      "text/html": [
       "<div style=\"width:100%;\"><div style=\"position:relative;width:100%;height:0;padding-bottom:60%;\"><iframe src=\"data:text/html;charset=utf-8;base64,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\" style=\"position:absolute;width:100%;height:100%;left:0;top:0;border:none !important;\" allowfullscreen webkitallowfullscreen mozallowfullscreen></iframe></div></div>"
      ],
      "text/plain": [
       "<folium.folium.Map at 0x1a1a485e10>"
      ]
     },
     "execution_count": 16,
     "metadata": {},
     "output_type": "execute_result"
    }
   ],
   "source": [
    "venues_map = folium.Map(location=[latitude, longitude], zoom_start=13) # generate map centred around the Conrad Hotel\n",
    "\n",
    "# add a red circle marker to represent the center of Atlanta\n",
    "folium.CircleMarker(\n",
    "    [latitude, longitude],\n",
    "    radius=10,\n",
    "    color='red',\n",
    "    popup='Center of Atlanta',\n",
    "    fill = True,\n",
    "    fill_color = 'red',\n",
    "   # fill_opacity = 0.6\n",
    ").add_to(venues_map)\n",
    "\n",
    "# add the Italian restaurants as blue circle markers\n",
    "for lat, lng, label in zip(dataframe_filtered.lat, dataframe_filtered.lng, dataframe_filtered.categories):\n",
    "    folium.CircleMarker(\n",
    "        [lat, lng],\n",
    "        radius=5,\n",
    "        color='blue',\n",
    "        popup=label,\n",
    "        fill = True,\n",
    "        fill_color='blue',\n",
    "        fill_opacity=0.6\n",
    "    ).add_to(venues_map)\n",
    "\n",
    "\n",
    "# display map\n",
    "venues_map"
   ]
  },
  {
   "cell_type": "markdown",
   "metadata": {},
   "source": [
    "We used unsupervised learning K-means algorithm to cluster the places and find zones to place our restaurant. K-Means algorithm is one of the most common cluster method of unsupervised learning. "
   ]
  },
  {
   "cell_type": "code",
   "execution_count": 17,
   "metadata": {},
   "outputs": [],
   "source": [
    "from sklearn.cluster import KMeans"
   ]
  },
  {
   "cell_type": "code",
   "execution_count": 18,
   "metadata": {},
   "outputs": [],
   "source": [
    "df=pd.get_dummies(dataframe_filtered)\n",
    "kmeans=KMeans(n_clusters=3, random_state=0).fit(df)"
   ]
  },
  {
   "cell_type": "code",
   "execution_count": 19,
   "metadata": {},
   "outputs": [
    {
     "data": {
      "text/plain": [
       "array([2, 0, 1, 2, 1, 1, 1, 1, 0, 0, 1, 0, 0, 0, 0, 2, 2, 2, 2, 2, 0],\n",
       "      dtype=int32)"
      ]
     },
     "execution_count": 19,
     "metadata": {},
     "output_type": "execute_result"
    }
   ],
   "source": [
    "kmeans.labels_"
   ]
  },
  {
   "cell_type": "markdown",
   "metadata": {},
   "source": [
    "We used 3 clusters, here is the merged table with cluster labels for each place."
   ]
  },
  {
   "cell_type": "code",
   "execution_count": 20,
   "metadata": {},
   "outputs": [
    {
     "data": {
      "text/html": [
       "<div>\n",
       "<style scoped>\n",
       "    .dataframe tbody tr th:only-of-type {\n",
       "        vertical-align: middle;\n",
       "    }\n",
       "\n",
       "    .dataframe tbody tr th {\n",
       "        vertical-align: top;\n",
       "    }\n",
       "\n",
       "    .dataframe thead th {\n",
       "        text-align: right;\n",
       "    }\n",
       "</style>\n",
       "<table border=\"1\" class=\"dataframe\">\n",
       "  <thead>\n",
       "    <tr style=\"text-align: right;\">\n",
       "      <th></th>\n",
       "      <th>name</th>\n",
       "      <th>categories</th>\n",
       "      <th>distance</th>\n",
       "      <th>lat</th>\n",
       "      <th>lng</th>\n",
       "      <th>postalCode</th>\n",
       "      <th>Cluster Labels</th>\n",
       "    </tr>\n",
       "  </thead>\n",
       "  <tbody>\n",
       "    <tr>\n",
       "      <th>0</th>\n",
       "      <td>Carrabba's Italian Grill</td>\n",
       "      <td>Italian Restaurant</td>\n",
       "      <td>12685</td>\n",
       "      <td>33.640815</td>\n",
       "      <td>-84.432870</td>\n",
       "      <td>30337</td>\n",
       "      <td>2</td>\n",
       "    </tr>\n",
       "    <tr>\n",
       "      <th>4</th>\n",
       "      <td>Artuzzi's Italian Kitchen</td>\n",
       "      <td>Italian Restaurant</td>\n",
       "      <td>6502</td>\n",
       "      <td>33.804112</td>\n",
       "      <td>-84.413797</td>\n",
       "      <td>30318</td>\n",
       "      <td>0</td>\n",
       "    </tr>\n",
       "    <tr>\n",
       "      <th>5</th>\n",
       "      <td>Italian Bistro</td>\n",
       "      <td>Pizza Place</td>\n",
       "      <td>3326</td>\n",
       "      <td>33.778747</td>\n",
       "      <td>-84.385658</td>\n",
       "      <td>30308</td>\n",
       "      <td>1</td>\n",
       "    </tr>\n",
       "    <tr>\n",
       "      <th>7</th>\n",
       "      <td>Carrabba's Italian Grill</td>\n",
       "      <td>Italian Restaurant</td>\n",
       "      <td>16621</td>\n",
       "      <td>33.881150</td>\n",
       "      <td>-84.474070</td>\n",
       "      <td>30339</td>\n",
       "      <td>2</td>\n",
       "    </tr>\n",
       "    <tr>\n",
       "      <th>9</th>\n",
       "      <td>Ginas Italian Restaurant and Pizzeria</td>\n",
       "      <td>Pizza Place</td>\n",
       "      <td>2805</td>\n",
       "      <td>33.773899</td>\n",
       "      <td>-84.384804</td>\n",
       "      <td>30308</td>\n",
       "      <td>1</td>\n",
       "    </tr>\n",
       "  </tbody>\n",
       "</table>\n",
       "</div>"
      ],
      "text/plain": [
       "                                    name          categories  distance  \\\n",
       "0               Carrabba's Italian Grill  Italian Restaurant     12685   \n",
       "4              Artuzzi's Italian Kitchen  Italian Restaurant      6502   \n",
       "5                         Italian Bistro         Pizza Place      3326   \n",
       "7               Carrabba's Italian Grill  Italian Restaurant     16621   \n",
       "9  Ginas Italian Restaurant and Pizzeria         Pizza Place      2805   \n",
       "\n",
       "         lat        lng postalCode  Cluster Labels  \n",
       "0  33.640815 -84.432870      30337               2  \n",
       "4  33.804112 -84.413797      30318               0  \n",
       "5  33.778747 -84.385658      30308               1  \n",
       "7  33.881150 -84.474070      30339               2  \n",
       "9  33.773899 -84.384804      30308               1  "
      ]
     },
     "execution_count": 20,
     "metadata": {},
     "output_type": "execute_result"
    }
   ],
   "source": [
    "dataframe_filtered['Cluster Labels']=kmeans.labels_\n",
    "dataframe_filtered.head()"
   ]
  },
  {
   "cell_type": "markdown",
   "metadata": {},
   "source": [
    "The following is a map of Atlanta with the places of our study divided by clusters:"
   ]
  },
  {
   "cell_type": "code",
   "execution_count": 21,
   "metadata": {},
   "outputs": [],
   "source": [
    "import matplotlib.cm as cm\n",
    "import matplotlib.colors as colors"
   ]
  },
  {
   "cell_type": "code",
   "execution_count": 22,
   "metadata": {},
   "outputs": [],
   "source": [
    "cluster_map=folium.Map(location=[latitude,longitude],zoom_start=13)\n",
    "\n",
    "# set color scheme for the clusters\n",
    "x = np.arange(3)\n",
    "ys = [i + x + (i*x)**2 for i in range(3)]\n",
    "colors_array = cm.rainbow(np.linspace(0, 1, len(ys)))\n",
    "rainbow = [colors.rgb2hex(i) for i in colors_array]\n",
    "\n",
    "folium.CircleMarker(\n",
    "    [latitude, longitude],\n",
    "    radius=10,\n",
    "    color='red',\n",
    "    popup='Center of Atlanta',\n",
    "    fill = True,\n",
    "    fill_color = 'red',\n",
    "   # fill_opacity = 0.6\n",
    ").add_to(cluster_map)\n",
    "\n",
    "\n",
    "\n",
    "for lat, lng, cat, cluster in zip(dataframe_filtered['lat'], dataframe_filtered['lng'],dataframe_filtered['categories'], \n",
    "                                   dataframe_filtered['Cluster Labels']):\n",
    "     folium.CircleMarker(\n",
    "     [lat,lng],\n",
    "     radius=5,\n",
    "     popup=str(cluster),\n",
    "     color=rainbow[int(cluster)-1],\n",
    "        fill=True,\n",
    "        fill_color=rainbow[int(cluster)-1],\n",
    "        fill_opacity=0.7).add_to(cluster_map)"
   ]
  },
  {
   "cell_type": "code",
   "execution_count": 23,
   "metadata": {},
   "outputs": [
    {
     "data": {
      "text/html": [
       "<div style=\"width:100%;\"><div style=\"position:relative;width:100%;height:0;padding-bottom:60%;\"><iframe src=\"data:text/html;charset=utf-8;base64,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\" style=\"position:absolute;width:100%;height:100%;left:0;top:0;border:none !important;\" allowfullscreen webkitallowfullscreen mozallowfullscreen></iframe></div></div>"
      ],
      "text/plain": [
       "<folium.folium.Map at 0x1a1ae28ac8>"
      ]
     },
     "execution_count": 23,
     "metadata": {},
     "output_type": "execute_result"
    }
   ],
   "source": [
    "cluster_map"
   ]
  },
  {
   "cell_type": "markdown",
   "metadata": {},
   "source": [
    "As is shown in the map the cluster 2 is too far from the center of Atlanta and the locations are also sparse. Cluster 0 seems to be crowded with Italian Restaurants, therefore we think that cluster 1 is the best possible place to our restaurant, due to is close to the center of the city and have only 3 Pizza Places and 3 Italian Restaurants."
   ]
  },
  {
   "cell_type": "code",
   "execution_count": 24,
   "metadata": {},
   "outputs": [],
   "source": [
    "select_cluster=dataframe_filtered[dataframe_filtered['Cluster Labels']==1]"
   ]
  },
  {
   "cell_type": "code",
   "execution_count": 25,
   "metadata": {},
   "outputs": [
    {
     "data": {
      "text/html": [
       "<div>\n",
       "<style scoped>\n",
       "    .dataframe tbody tr th:only-of-type {\n",
       "        vertical-align: middle;\n",
       "    }\n",
       "\n",
       "    .dataframe tbody tr th {\n",
       "        vertical-align: top;\n",
       "    }\n",
       "\n",
       "    .dataframe thead th {\n",
       "        text-align: right;\n",
       "    }\n",
       "</style>\n",
       "<table border=\"1\" class=\"dataframe\">\n",
       "  <thead>\n",
       "    <tr style=\"text-align: right;\">\n",
       "      <th></th>\n",
       "      <th>name</th>\n",
       "      <th>categories</th>\n",
       "      <th>distance</th>\n",
       "      <th>lat</th>\n",
       "      <th>lng</th>\n",
       "      <th>postalCode</th>\n",
       "      <th>Cluster Labels</th>\n",
       "    </tr>\n",
       "  </thead>\n",
       "  <tbody>\n",
       "    <tr>\n",
       "      <th>5</th>\n",
       "      <td>Italian Bistro</td>\n",
       "      <td>Pizza Place</td>\n",
       "      <td>3326</td>\n",
       "      <td>33.778747</td>\n",
       "      <td>-84.385658</td>\n",
       "      <td>30308</td>\n",
       "      <td>1</td>\n",
       "    </tr>\n",
       "    <tr>\n",
       "      <th>9</th>\n",
       "      <td>Ginas Italian Restaurant and Pizzeria</td>\n",
       "      <td>Pizza Place</td>\n",
       "      <td>2805</td>\n",
       "      <td>33.773899</td>\n",
       "      <td>-84.384804</td>\n",
       "      <td>30308</td>\n",
       "      <td>1</td>\n",
       "    </tr>\n",
       "    <tr>\n",
       "      <th>12</th>\n",
       "      <td>Pasta Mia Pizzeria and Italian Restaurant</td>\n",
       "      <td>Pizza Place</td>\n",
       "      <td>3866</td>\n",
       "      <td>33.783400</td>\n",
       "      <td>-84.383600</td>\n",
       "      <td>30309</td>\n",
       "      <td>1</td>\n",
       "    </tr>\n",
       "    <tr>\n",
       "      <th>14</th>\n",
       "      <td>Papino's</td>\n",
       "      <td>Italian Restaurant</td>\n",
       "      <td>1553</td>\n",
       "      <td>33.762595</td>\n",
       "      <td>-84.385932</td>\n",
       "      <td>30303</td>\n",
       "      <td>1</td>\n",
       "    </tr>\n",
       "    <tr>\n",
       "      <th>17</th>\n",
       "      <td>Baraonda Cafe Italiano</td>\n",
       "      <td>Italian Restaurant</td>\n",
       "      <td>2791</td>\n",
       "      <td>33.773785</td>\n",
       "      <td>-84.384856</td>\n",
       "      <td>30308</td>\n",
       "      <td>1</td>\n",
       "    </tr>\n",
       "    <tr>\n",
       "      <th>22</th>\n",
       "      <td>Sono Italiano</td>\n",
       "      <td>Italian Restaurant</td>\n",
       "      <td>2350</td>\n",
       "      <td>33.770114</td>\n",
       "      <td>-84.387711</td>\n",
       "      <td>30308</td>\n",
       "      <td>1</td>\n",
       "    </tr>\n",
       "  </tbody>\n",
       "</table>\n",
       "</div>"
      ],
      "text/plain": [
       "                                         name          categories  distance  \\\n",
       "5                              Italian Bistro         Pizza Place      3326   \n",
       "9       Ginas Italian Restaurant and Pizzeria         Pizza Place      2805   \n",
       "12  Pasta Mia Pizzeria and Italian Restaurant         Pizza Place      3866   \n",
       "14                                   Papino's  Italian Restaurant      1553   \n",
       "17                     Baraonda Cafe Italiano  Italian Restaurant      2791   \n",
       "22                              Sono Italiano  Italian Restaurant      2350   \n",
       "\n",
       "          lat        lng postalCode  Cluster Labels  \n",
       "5   33.778747 -84.385658      30308               1  \n",
       "9   33.773899 -84.384804      30308               1  \n",
       "12  33.783400 -84.383600      30309               1  \n",
       "14  33.762595 -84.385932      30303               1  \n",
       "17  33.773785 -84.384856      30308               1  \n",
       "22  33.770114 -84.387711      30308               1  "
      ]
     },
     "execution_count": 25,
     "metadata": {},
     "output_type": "execute_result"
    }
   ],
   "source": [
    "select_cluster"
   ]
  },
  {
   "cell_type": "markdown",
   "metadata": {},
   "source": [
    "To be sure that we want to open our restaurant next to these locations, we are going to find the maximum distance of a place in this cluster to the center of the city and make a search in this radius of all the common Italian venues. The maximum distance is 3866m and we are going to look in this radius for up to 100 Italian venues. "
   ]
  },
  {
   "cell_type": "code",
   "execution_count": 26,
   "metadata": {},
   "outputs": [],
   "source": [
    "# we are going to set our new radius as 3866\n",
    "\n",
    "geolocator = Nominatim(user_agent=\"foursquare_agent\") \n",
    "address='Atlanta, Georgia, GA'\n",
    "location = geolocator.geocode(address)\n",
    "latitude = location.latitude\n",
    "longitude = location.longitude"
   ]
  },
  {
   "cell_type": "code",
   "execution_count": 27,
   "metadata": {},
   "outputs": [],
   "source": [
    "search_query = 'Italian'\n",
    "radius = 3867\n",
    "LIMIT = 1000\n",
    "url = 'https://api.foursquare.com/v2/venues/search?client_id={}&client_secret={}&ll={},{}&v={}&query={}&radius={}&limit={}'.format(CLIENT_ID, CLIENT_SECRET, latitude, longitude, VERSION, search_query, radius, LIMIT)\n",
    "results=requests.get(url).json()\n",
    "venues=results['response']['venues']     \n",
    "# transform venues into a dataframe\n",
    "data_rest = json_normalize(venues)    "
   ]
  },
  {
   "cell_type": "code",
   "execution_count": 28,
   "metadata": {},
   "outputs": [
    {
     "name": "stderr",
     "output_type": "stream",
     "text": [
      "/anaconda3/lib/python3.7/site-packages/pandas/core/indexing.py:190: SettingWithCopyWarning: \n",
      "A value is trying to be set on a copy of a slice from a DataFrame\n",
      "\n",
      "See the caveats in the documentation: http://pandas.pydata.org/pandas-docs/stable/indexing.html#indexing-view-versus-copy\n",
      "  self._setitem_with_indexer(indexer, value)\n"
     ]
    }
   ],
   "source": [
    "filtered_columns=['name','categories']+[col for col in data_rest.columns if col.startswith('location.') ]\n",
    "dataframe_filtered=data_rest.loc[:,filtered_columns]\n",
    "\n",
    "for i in range(data_rest.shape[0]):\n",
    "    categ_list=dataframe_filtered['categories'].iloc[i]\n",
    "    if len(categ_list) ==0:\n",
    "        dataframe_filtered['categories'].iloc[i]= 'no category'\n",
    "    else:\n",
    "        dataframe_filtered['categories'].iloc[i]=categ_list[0]['name'] "
   ]
  },
  {
   "cell_type": "code",
   "execution_count": 29,
   "metadata": {},
   "outputs": [],
   "source": [
    "dataframe_filtered.columns=[col.split('.')[-1] for col in dataframe_filtered.columns]"
   ]
  },
  {
   "cell_type": "code",
   "execution_count": 30,
   "metadata": {},
   "outputs": [],
   "source": [
    "dataframe_filtered.drop(['formattedAddress'], axis=1,inplace=True)\n",
    "dataframe_filtered.drop(['labeledLatLngs'], axis=1,inplace=True)\n",
    "dataframe_filtered.drop(['crossStreet'], axis=1,inplace=True)\n",
    "dataframe_filtered.drop(['state'], axis=1,inplace=True)\n",
    "dataframe_filtered.drop(['address'], axis=1,inplace=True)\n",
    "dataframe_filtered.drop(['cc'], axis=1,inplace=True)\n",
    "dataframe_filtered.drop(['country'], axis=1,inplace=True)"
   ]
  },
  {
   "cell_type": "code",
   "execution_count": 31,
   "metadata": {},
   "outputs": [],
   "source": [
    "dataframe_filtered.drop(['city'], axis=1,inplace=True)\n",
    "#dataframe_filtered.drop(['neighborhood'], axis=1,inplace=True)"
   ]
  },
  {
   "cell_type": "markdown",
   "metadata": {},
   "source": [
    "After we clean and filtered all the data, we obtain the following dataframe"
   ]
  },
  {
   "cell_type": "code",
   "execution_count": 32,
   "metadata": {},
   "outputs": [],
   "source": [
    "dataframe_filtered.loc[2,'postalCode']=30303"
   ]
  },
  {
   "cell_type": "code",
   "execution_count": 33,
   "metadata": {},
   "outputs": [],
   "source": [
    "dataframe_filtered.replace(np.nan, 30307, inplace=True)"
   ]
  },
  {
   "cell_type": "code",
   "execution_count": 34,
   "metadata": {},
   "outputs": [
    {
     "data": {
      "text/html": [
       "<div>\n",
       "<style scoped>\n",
       "    .dataframe tbody tr th:only-of-type {\n",
       "        vertical-align: middle;\n",
       "    }\n",
       "\n",
       "    .dataframe tbody tr th {\n",
       "        vertical-align: top;\n",
       "    }\n",
       "\n",
       "    .dataframe thead th {\n",
       "        text-align: right;\n",
       "    }\n",
       "</style>\n",
       "<table border=\"1\" class=\"dataframe\">\n",
       "  <thead>\n",
       "    <tr style=\"text-align: right;\">\n",
       "      <th></th>\n",
       "      <th>name</th>\n",
       "      <th>categories</th>\n",
       "      <th>distance</th>\n",
       "      <th>lat</th>\n",
       "      <th>lng</th>\n",
       "      <th>postalCode</th>\n",
       "    </tr>\n",
       "  </thead>\n",
       "  <tbody>\n",
       "    <tr>\n",
       "      <th>0</th>\n",
       "      <td>Meockie Mens Italian Suits &amp; Accessories</td>\n",
       "      <td>Boutique</td>\n",
       "      <td>516</td>\n",
       "      <td>33.751684</td>\n",
       "      <td>-84.394816</td>\n",
       "      <td>30303</td>\n",
       "    </tr>\n",
       "    <tr>\n",
       "      <th>1</th>\n",
       "      <td>Italian Ice</td>\n",
       "      <td>Ice Cream Shop</td>\n",
       "      <td>1184</td>\n",
       "      <td>33.759367</td>\n",
       "      <td>-84.393521</td>\n",
       "      <td>30303</td>\n",
       "    </tr>\n",
       "    <tr>\n",
       "      <th>2</th>\n",
       "      <td>PICCOLO ITALIAN FOOD TRUCK</td>\n",
       "      <td>Food Truck</td>\n",
       "      <td>760</td>\n",
       "      <td>33.745132</td>\n",
       "      <td>-84.383499</td>\n",
       "      <td>30303</td>\n",
       "    </tr>\n",
       "    <tr>\n",
       "      <th>3</th>\n",
       "      <td>Italian Bistro</td>\n",
       "      <td>Pizza Place</td>\n",
       "      <td>3326</td>\n",
       "      <td>33.778747</td>\n",
       "      <td>-84.385658</td>\n",
       "      <td>30307</td>\n",
       "    </tr>\n",
       "    <tr>\n",
       "      <th>4</th>\n",
       "      <td>Italian House of Tamanza</td>\n",
       "      <td>Sorority House</td>\n",
       "      <td>3528</td>\n",
       "      <td>33.778762</td>\n",
       "      <td>-84.376745</td>\n",
       "      <td>30307</td>\n",
       "    </tr>\n",
       "    <tr>\n",
       "      <th>5</th>\n",
       "      <td>Voga Italian Gelato</td>\n",
       "      <td>Ice Cream Shop</td>\n",
       "      <td>3315</td>\n",
       "      <td>33.762442</td>\n",
       "      <td>-84.358162</td>\n",
       "      <td>30307</td>\n",
       "    </tr>\n",
       "    <tr>\n",
       "      <th>6</th>\n",
       "      <td>Ginas Italian Restaurant and Pizzeria</td>\n",
       "      <td>Pizza Place</td>\n",
       "      <td>2805</td>\n",
       "      <td>33.773899</td>\n",
       "      <td>-84.384804</td>\n",
       "      <td>30308</td>\n",
       "    </tr>\n",
       "    <tr>\n",
       "      <th>7</th>\n",
       "      <td>Noni's Bar &amp; Deli</td>\n",
       "      <td>Bar</td>\n",
       "      <td>1435</td>\n",
       "      <td>33.754262</td>\n",
       "      <td>-84.375967</td>\n",
       "      <td>30312</td>\n",
       "    </tr>\n",
       "    <tr>\n",
       "      <th>8</th>\n",
       "      <td>Giovanni's Italian Ice</td>\n",
       "      <td>Ice Cream Shop</td>\n",
       "      <td>3701</td>\n",
       "      <td>33.781941</td>\n",
       "      <td>-84.396420</td>\n",
       "      <td>30307</td>\n",
       "    </tr>\n",
       "    <tr>\n",
       "      <th>9</th>\n",
       "      <td>Pasta Mia Pizzeria and Italian Restaurant</td>\n",
       "      <td>Pizza Place</td>\n",
       "      <td>3866</td>\n",
       "      <td>33.783400</td>\n",
       "      <td>-84.383600</td>\n",
       "      <td>30309</td>\n",
       "    </tr>\n",
       "    <tr>\n",
       "      <th>10</th>\n",
       "      <td>rita's italian ice</td>\n",
       "      <td>Ice Cream Shop</td>\n",
       "      <td>3957</td>\n",
       "      <td>33.779480</td>\n",
       "      <td>-84.367967</td>\n",
       "      <td>30307</td>\n",
       "    </tr>\n",
       "    <tr>\n",
       "      <th>11</th>\n",
       "      <td>Papino's</td>\n",
       "      <td>Italian Restaurant</td>\n",
       "      <td>1553</td>\n",
       "      <td>33.762595</td>\n",
       "      <td>-84.385932</td>\n",
       "      <td>30303</td>\n",
       "    </tr>\n",
       "    <tr>\n",
       "      <th>12</th>\n",
       "      <td>Capobianco's Italian Bakery</td>\n",
       "      <td>Bakery</td>\n",
       "      <td>4190</td>\n",
       "      <td>33.740088</td>\n",
       "      <td>-84.346225</td>\n",
       "      <td>30316</td>\n",
       "    </tr>\n",
       "    <tr>\n",
       "      <th>13</th>\n",
       "      <td>Baraonda Cafe Italiano</td>\n",
       "      <td>Italian Restaurant</td>\n",
       "      <td>2791</td>\n",
       "      <td>33.773785</td>\n",
       "      <td>-84.384856</td>\n",
       "      <td>30308</td>\n",
       "    </tr>\n",
       "    <tr>\n",
       "      <th>14</th>\n",
       "      <td>Sono Italiano</td>\n",
       "      <td>Italian Restaurant</td>\n",
       "      <td>2350</td>\n",
       "      <td>33.770114</td>\n",
       "      <td>-84.387711</td>\n",
       "      <td>30308</td>\n",
       "    </tr>\n",
       "  </tbody>\n",
       "</table>\n",
       "</div>"
      ],
      "text/plain": [
       "                                         name          categories  distance  \\\n",
       "0    Meockie Mens Italian Suits & Accessories            Boutique       516   \n",
       "1                                 Italian Ice      Ice Cream Shop      1184   \n",
       "2                  PICCOLO ITALIAN FOOD TRUCK          Food Truck       760   \n",
       "3                              Italian Bistro         Pizza Place      3326   \n",
       "4                    Italian House of Tamanza      Sorority House      3528   \n",
       "5                         Voga Italian Gelato      Ice Cream Shop      3315   \n",
       "6       Ginas Italian Restaurant and Pizzeria         Pizza Place      2805   \n",
       "7                           Noni's Bar & Deli                 Bar      1435   \n",
       "8                      Giovanni's Italian Ice      Ice Cream Shop      3701   \n",
       "9   Pasta Mia Pizzeria and Italian Restaurant         Pizza Place      3866   \n",
       "10                         rita's italian ice      Ice Cream Shop      3957   \n",
       "11                                   Papino's  Italian Restaurant      1553   \n",
       "12                Capobianco's Italian Bakery              Bakery      4190   \n",
       "13                     Baraonda Cafe Italiano  Italian Restaurant      2791   \n",
       "14                              Sono Italiano  Italian Restaurant      2350   \n",
       "\n",
       "          lat        lng postalCode  \n",
       "0   33.751684 -84.394816      30303  \n",
       "1   33.759367 -84.393521      30303  \n",
       "2   33.745132 -84.383499      30303  \n",
       "3   33.778747 -84.385658      30307  \n",
       "4   33.778762 -84.376745      30307  \n",
       "5   33.762442 -84.358162      30307  \n",
       "6   33.773899 -84.384804      30308  \n",
       "7   33.754262 -84.375967      30312  \n",
       "8   33.781941 -84.396420      30307  \n",
       "9   33.783400 -84.383600      30309  \n",
       "10  33.779480 -84.367967      30307  \n",
       "11  33.762595 -84.385932      30303  \n",
       "12  33.740088 -84.346225      30316  \n",
       "13  33.773785 -84.384856      30308  \n",
       "14  33.770114 -84.387711      30308  "
      ]
     },
     "execution_count": 34,
     "metadata": {},
     "output_type": "execute_result"
    }
   ],
   "source": [
    "dataframe_filtered"
   ]
  },
  {
   "cell_type": "markdown",
   "metadata": {},
   "source": [
    "As we can see from the table Postal Code 30308 is the one with more Italian Restaurants and Pizza Places, Postal Code 30316 is out of our limits and Postal Code 30312 has only one Italian venue. Therefore we consider that the best locations for opening our restaurant are Postal Codes 30303 and 30307.\n",
    "We used the Kmeans algorithm as part of this clustering study. Despite Atlanta is a big city due to our Foursquare account limitations we can't obtain all the data we wanted.\n",
    "\n",
    "Contrary as we expected the locations near to the center of the city where not crowded of Italian restaurant, making our decision easier."
   ]
  },
  {
   "cell_type": "code",
   "execution_count": null,
   "metadata": {},
   "outputs": [],
   "source": []
  }
 ],
 "metadata": {
  "kernelspec": {
   "display_name": "Python 3",
   "language": "python",
   "name": "python3"
  },
  "language_info": {
   "codemirror_mode": {
    "name": "ipython",
    "version": 3
   },
   "file_extension": ".py",
   "mimetype": "text/x-python",
   "name": "python",
   "nbconvert_exporter": "python",
   "pygments_lexer": "ipython3",
   "version": "3.7.3"
  }
 },
 "nbformat": 4,
 "nbformat_minor": 2
}
